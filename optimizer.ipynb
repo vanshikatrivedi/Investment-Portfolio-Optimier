{
 "cells": [
  {
   "cell_type": "code",
   "execution_count": 12,
   "metadata": {},
   "outputs": [
    {
     "name": "stdout",
     "output_type": "stream",
     "text": [
      "Requirement already satisfied: yfinance in c:\\programdata\\anaconda3\\lib\\site-packages (0.1.74)\n",
      "Requirement already satisfied: requests>=2.26 in c:\\programdata\\anaconda3\\lib\\site-packages (from yfinance) (2.28.1)\n",
      "Requirement already satisfied: multitasking>=0.0.7 in c:\\programdata\\anaconda3\\lib\\site-packages (from yfinance) (0.0.11)\n",
      "Requirement already satisfied: lxml>=4.5.1 in c:\\programdata\\anaconda3\\lib\\site-packages (from yfinance) (4.9.1)\n",
      "Requirement already satisfied: numpy>=1.15 in c:\\programdata\\anaconda3\\lib\\site-packages (from yfinance) (1.18.1)\n",
      "Requirement already satisfied: pandas>=0.24.0 in c:\\programdata\\anaconda3\\lib\\site-packages (from yfinance) (1.0.1)\n",
      "Requirement already satisfied: charset-normalizer<3,>=2 in c:\\programdata\\anaconda3\\lib\\site-packages (from requests>=2.26->yfinance) (2.1.0)\n",
      "Requirement already satisfied: idna<4,>=2.5 in c:\\programdata\\anaconda3\\lib\\site-packages (from requests>=2.26->yfinance) (2.8)\n",
      "Requirement already satisfied: certifi>=2017.4.17 in c:\\programdata\\anaconda3\\lib\\site-packages (from requests>=2.26->yfinance) (2019.11.28)\n",
      "Requirement already satisfied: urllib3<1.27,>=1.21.1 in c:\\programdata\\anaconda3\\lib\\site-packages (from requests>=2.26->yfinance) (1.25.8)\n",
      "Requirement already satisfied: pytz>=2017.2 in c:\\programdata\\anaconda3\\lib\\site-packages (from pandas>=0.24.0->yfinance) (2019.3)\n",
      "Requirement already satisfied: python-dateutil>=2.6.1 in c:\\programdata\\anaconda3\\lib\\site-packages (from pandas>=0.24.0->yfinance) (2.8.1)\n",
      "Requirement already satisfied: six>=1.5 in c:\\programdata\\anaconda3\\lib\\site-packages (from python-dateutil>=2.6.1->pandas>=0.24.0->yfinance) (1.14.0)\n"
     ]
    }
   ],
   "source": [
    "!pip install yfinance\n"
   ]
  },
  {
   "cell_type": "code",
   "execution_count": 13,
   "metadata": {},
   "outputs": [],
   "source": [
    "import pandas as pd\n",
    "import numpy as np\n",
    "import yfinance as yf\n",
    "\n",
    "\n",
    "def download_prices(tickers):\n",
    "\n",
    "    df = yf.download(tickers.split(), '2020-1-1')['Adj Close']\n",
    "\n",
    "    df = df[-253:]\n",
    "\n",
    "    return df\n",
    "\n",
    "def calculate_variables(df):\n",
    "\n",
    "    daily_ret = df.pct_change()\n",
    "\n",
    "    NUM_DAYS = daily_ret.count()\n",
    "\n",
    "    annual_ret = daily_ret.mean() * NUM_DAYS\n",
    "\n",
    "    cov_daily = daily_ret.cov()\n",
    "\n",
    "    cov_annual = cov_daily * NUM_DAYS\n",
    "    \n",
    "    return annual_ret, cov_annual\n",
    "\n",
    "def calculate_eff_frontier(df, annual_ret, cov_annual):\n",
    "    \n",
    "    NUM_ASSETS = len(df.columns)\n",
    "    NUM_PORTFOLIOS = 50000\n",
    "    \n",
    "    # empty lists to store returns, volatility and weights of imiginary portfolios\n",
    "    port_returns = []\n",
    "    port_volatility = []\n",
    "    stock_weights = []\n",
    "    sharpe_ratio = []\n",
    "    \n",
    "    # populate the empty lists with each portfolios returns,risk and weights\n",
    "    for portfolio in range(NUM_PORTFOLIOS):\n",
    "    \n",
    "        weights = np.random.random(NUM_ASSETS)\n",
    "        weights /= np.sum(weights)\n",
    "    \n",
    "        returns = np.dot(weights, annual_ret)\n",
    "    \n",
    "        volatility = np.sqrt(np.dot(weights.T, np.dot(cov_annual, weights)))\n",
    "    \n",
    "        sharpe = returns / volatility\n",
    "        sharpe_ratio.append(sharpe)\n",
    "    \n",
    "        port_returns.append(returns)\n",
    "        port_volatility.append(volatility)\n",
    "        stock_weights.append(weights)\n",
    "    \n",
    "    # Create a dictionary for Returns and Risk values of each portfolio\n",
    "    portfolio = {'Returns': port_returns, 'Volatility': port_volatility,'Sharpe Ratio': sharpe_ratio}\n",
    "\n",
    "    # extend original dictionary to accomodate each ticker and weight in the portfolio\n",
    "    assets = df.columns\n",
    "\n",
    "    for counter,asset in enumerate(assets):\n",
    "        portfolio[asset+' Weight'] = [Weight[counter] for Weight in stock_weights]\n",
    "\n",
    "    # make a nice dataframe of the extended dictionary\n",
    "    df_portfolio = pd.DataFrame(portfolio)   \n",
    "    \n",
    "    return df_portfolio\n",
    "\n",
    "def optimize(tickers):\n",
    "    \n",
    "    df = download_prices(tickers)\n",
    "    \n",
    "    annual_ret, cov_annual = calculate_variables(df)\n",
    "    \n",
    "    df_portfolio = calculate_eff_frontier(df, annual_ret, cov_annual)\n",
    "    \n",
    "    # find min Volatility & max sharpe values in the dataframe \n",
    "    is_min_vol = df_portfolio['Volatility'] ==  df_portfolio['Volatility'].min()\n",
    "    is_max_sharpe = df_portfolio['Sharpe Ratio'] == df_portfolio['Sharpe Ratio'].max()\n",
    "\n",
    "    # use the min, max values to locate and create the two special portfolios\n",
    "    max_sharpe_port = df_portfolio.loc[is_max_sharpe]\n",
    "    min_vol_port = df_portfolio.loc[is_min_vol]\n",
    "    \n",
    "    return min_vol_port, max_sharpe_port"
   ]
  },
  {
   "cell_type": "code",
   "execution_count": 14,
   "metadata": {},
   "outputs": [
    {
     "name": "stdout",
     "output_type": "stream",
     "text": [
      "[*********************100%***********************]  8 of 8 completed\n"
     ]
    }
   ],
   "source": [
    "tickers = ' BTC-USD AMZN NFLX GOOGL TSLA F JPM GLD'\n",
    "\n",
    "min_risk, max_return = optimize(tickers)"
   ]
  },
  {
   "cell_type": "code",
   "execution_count": 15,
   "metadata": {},
   "outputs": [
    {
     "data": {
      "text/html": [
       "<div>\n",
       "<style scoped>\n",
       "    .dataframe tbody tr th:only-of-type {\n",
       "        vertical-align: middle;\n",
       "    }\n",
       "\n",
       "    .dataframe tbody tr th {\n",
       "        vertical-align: top;\n",
       "    }\n",
       "\n",
       "    .dataframe thead th {\n",
       "        text-align: right;\n",
       "    }\n",
       "</style>\n",
       "<table border=\"1\" class=\"dataframe\">\n",
       "  <thead>\n",
       "    <tr style=\"text-align: right;\">\n",
       "      <th></th>\n",
       "      <th>Returns</th>\n",
       "      <th>Volatility</th>\n",
       "      <th>Sharpe Ratio</th>\n",
       "      <th>AMZN Weight</th>\n",
       "      <th>BTC-USD Weight</th>\n",
       "      <th>F Weight</th>\n",
       "      <th>GLD Weight</th>\n",
       "      <th>GOOGL Weight</th>\n",
       "      <th>JPM Weight</th>\n",
       "      <th>NFLX Weight</th>\n",
       "      <th>TSLA Weight</th>\n",
       "    </tr>\n",
       "  </thead>\n",
       "  <tbody>\n",
       "    <tr>\n",
       "      <th>21831</th>\n",
       "      <td>-0.089152</td>\n",
       "      <td>0.140377</td>\n",
       "      <td>-0.635089</td>\n",
       "      <td>0.092399</td>\n",
       "      <td>0.054063</td>\n",
       "      <td>0.083608</td>\n",
       "      <td>0.598354</td>\n",
       "      <td>0.076044</td>\n",
       "      <td>0.048475</td>\n",
       "      <td>0.029657</td>\n",
       "      <td>0.017399</td>\n",
       "    </tr>\n",
       "  </tbody>\n",
       "</table>\n",
       "</div>"
      ],
      "text/plain": [
       "        Returns  Volatility  Sharpe Ratio  AMZN Weight  BTC-USD Weight  \\\n",
       "21831 -0.089152    0.140377     -0.635089     0.092399        0.054063   \n",
       "\n",
       "       F Weight  GLD Weight  GOOGL Weight  JPM Weight  NFLX Weight  \\\n",
       "21831  0.083608    0.598354      0.076044    0.048475     0.029657   \n",
       "\n",
       "       TSLA Weight  \n",
       "21831     0.017399  "
      ]
     },
     "execution_count": 15,
     "metadata": {},
     "output_type": "execute_result"
    }
   ],
   "source": [
    "min_risk"
   ]
  },
  {
   "cell_type": "code",
   "execution_count": 16,
   "metadata": {},
   "outputs": [
    {
     "data": {
      "text/html": [
       "<div>\n",
       "<style scoped>\n",
       "    .dataframe tbody tr th:only-of-type {\n",
       "        vertical-align: middle;\n",
       "    }\n",
       "\n",
       "    .dataframe tbody tr th {\n",
       "        vertical-align: top;\n",
       "    }\n",
       "\n",
       "    .dataframe thead th {\n",
       "        text-align: right;\n",
       "    }\n",
       "</style>\n",
       "<table border=\"1\" class=\"dataframe\">\n",
       "  <thead>\n",
       "    <tr style=\"text-align: right;\">\n",
       "      <th></th>\n",
       "      <th>Returns</th>\n",
       "      <th>Volatility</th>\n",
       "      <th>Sharpe Ratio</th>\n",
       "      <th>AMZN Weight</th>\n",
       "      <th>BTC-USD Weight</th>\n",
       "      <th>F Weight</th>\n",
       "      <th>GLD Weight</th>\n",
       "      <th>GOOGL Weight</th>\n",
       "      <th>JPM Weight</th>\n",
       "      <th>NFLX Weight</th>\n",
       "      <th>TSLA Weight</th>\n",
       "    </tr>\n",
       "  </thead>\n",
       "  <tbody>\n",
       "    <tr>\n",
       "      <th>22173</th>\n",
       "      <td>-0.048785</td>\n",
       "      <td>0.26422</td>\n",
       "      <td>-0.184639</td>\n",
       "      <td>0.052423</td>\n",
       "      <td>0.004977</td>\n",
       "      <td>0.012535</td>\n",
       "      <td>0.337794</td>\n",
       "      <td>0.201591</td>\n",
       "      <td>0.049819</td>\n",
       "      <td>0.002673</td>\n",
       "      <td>0.338188</td>\n",
       "    </tr>\n",
       "  </tbody>\n",
       "</table>\n",
       "</div>"
      ],
      "text/plain": [
       "        Returns  Volatility  Sharpe Ratio  AMZN Weight  BTC-USD Weight  \\\n",
       "22173 -0.048785     0.26422     -0.184639     0.052423        0.004977   \n",
       "\n",
       "       F Weight  GLD Weight  GOOGL Weight  JPM Weight  NFLX Weight  \\\n",
       "22173  0.012535    0.337794      0.201591    0.049819     0.002673   \n",
       "\n",
       "       TSLA Weight  \n",
       "22173     0.338188  "
      ]
     },
     "execution_count": 16,
     "metadata": {},
     "output_type": "execute_result"
    }
   ],
   "source": [
    "max_return"
   ]
  },
  {
   "cell_type": "code",
   "execution_count": null,
   "metadata": {},
   "outputs": [],
   "source": []
  }
 ],
 "metadata": {
  "kernelspec": {
   "display_name": "Python 3",
   "language": "python",
   "name": "python3"
  },
  "language_info": {
   "codemirror_mode": {
    "name": "ipython",
    "version": 3
   },
   "file_extension": ".py",
   "mimetype": "text/x-python",
   "name": "python",
   "nbconvert_exporter": "python",
   "pygments_lexer": "ipython3",
   "version": "3.7.6"
  }
 },
 "nbformat": 4,
 "nbformat_minor": 5
}
